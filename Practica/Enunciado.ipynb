{
 "cells": [
  {
   "cell_type": "markdown",
   "id": "30974719",
   "metadata": {},
   "source": [
    "## Practica Python + ML\n",
    "\n",
    "En esta práctica trabajaremos con una versión del dataset conocido como _diamonds_ que nos permitirá trabajar con diferentes técnicas de aprendizaje automático.\n",
    "\n",
    "---\n",
    "**Entrega**\n",
    "- Fecha: X/02/2022\n",
    "- Tipo: Individual\n",
    "- Formato: pdf del notebook generado\n",
    "\n",
    "---\n",
    "\n",
    "**Tarea a realizar**\n",
    "\n",
    "- Predecir el precio de los diamantes como una variable continua.\n",
    "- Predecir el precio de los diamantes en 4 categorías: barato, normal, caro, muy caro\n",
    "- Predecir el corte de los diamantes.\n",
    "---\n",
    "\n",
    "**Observaciones**\n",
    "\n",
    "La calificación se realizará de la siguiente manera:\n",
    "\n",
    "- Aplicación de las diversas técnicas trabajadas durante las sesiones de trabajo pres, usando las buenas prácticas de aprendizaje automático: Hasta un notable 7.5.\n",
    "- Desarrollo del punto anterior y además realizar un análisis de los resultados parciales y de los resultados finales obtenidos: Hasta un 9.\n",
    "- Desarrollo del punto anterior y aplicación de conceptos de esta asignatura: Hasta un 10."
   ]
  },
  {
   "cell_type": "markdown",
   "id": "a2fea564",
   "metadata": {},
   "source": [
    "### Análisis"
   ]
  },
  {
   "cell_type": "code",
   "execution_count": 1,
   "id": "611903b3",
   "metadata": {},
   "outputs": [],
   "source": [
    "# Importamos las librerias necesarias\n",
    "import pandas as pd"
   ]
  },
  {
   "cell_type": "code",
   "execution_count": 2,
   "id": "107d445d",
   "metadata": {},
   "outputs": [
    {
     "data": {
      "text/html": [
       "<div>\n",
       "<style scoped>\n",
       "    .dataframe tbody tr th:only-of-type {\n",
       "        vertical-align: middle;\n",
       "    }\n",
       "\n",
       "    .dataframe tbody tr th {\n",
       "        vertical-align: top;\n",
       "    }\n",
       "\n",
       "    .dataframe thead th {\n",
       "        text-align: right;\n",
       "    }\n",
       "</style>\n",
       "<table border=\"1\" class=\"dataframe\">\n",
       "  <thead>\n",
       "    <tr style=\"text-align: right;\">\n",
       "      <th></th>\n",
       "      <th>carat</th>\n",
       "      <th>cut</th>\n",
       "      <th>color</th>\n",
       "      <th>clarity</th>\n",
       "      <th>depth</th>\n",
       "      <th>table</th>\n",
       "      <th>price</th>\n",
       "      <th>x</th>\n",
       "      <th>y</th>\n",
       "      <th>z</th>\n",
       "    </tr>\n",
       "  </thead>\n",
       "  <tbody>\n",
       "    <tr>\n",
       "      <td>1</td>\n",
       "      <td>0.23</td>\n",
       "      <td>Ideal</td>\n",
       "      <td>E</td>\n",
       "      <td>SI2</td>\n",
       "      <td>61.5</td>\n",
       "      <td>55.0</td>\n",
       "      <td>326</td>\n",
       "      <td>3.95</td>\n",
       "      <td>3.98</td>\n",
       "      <td>2.43</td>\n",
       "    </tr>\n",
       "    <tr>\n",
       "      <td>2</td>\n",
       "      <td>0.21</td>\n",
       "      <td>Premium</td>\n",
       "      <td>E</td>\n",
       "      <td>SI1</td>\n",
       "      <td>59.8</td>\n",
       "      <td>61.0</td>\n",
       "      <td>326</td>\n",
       "      <td>3.89</td>\n",
       "      <td>3.84</td>\n",
       "      <td>2.31</td>\n",
       "    </tr>\n",
       "    <tr>\n",
       "      <td>3</td>\n",
       "      <td>0.23</td>\n",
       "      <td>Good</td>\n",
       "      <td>E</td>\n",
       "      <td>VS1</td>\n",
       "      <td>56.9</td>\n",
       "      <td>65.0</td>\n",
       "      <td>327</td>\n",
       "      <td>4.05</td>\n",
       "      <td>4.07</td>\n",
       "      <td>2.31</td>\n",
       "    </tr>\n",
       "    <tr>\n",
       "      <td>4</td>\n",
       "      <td>0.29</td>\n",
       "      <td>Premium</td>\n",
       "      <td>I</td>\n",
       "      <td>VS2</td>\n",
       "      <td>62.4</td>\n",
       "      <td>58.0</td>\n",
       "      <td>334</td>\n",
       "      <td>4.20</td>\n",
       "      <td>4.23</td>\n",
       "      <td>2.63</td>\n",
       "    </tr>\n",
       "    <tr>\n",
       "      <td>5</td>\n",
       "      <td>0.31</td>\n",
       "      <td>Good</td>\n",
       "      <td>J</td>\n",
       "      <td>SI2</td>\n",
       "      <td>63.3</td>\n",
       "      <td>58.0</td>\n",
       "      <td>335</td>\n",
       "      <td>4.34</td>\n",
       "      <td>4.35</td>\n",
       "      <td>2.75</td>\n",
       "    </tr>\n",
       "  </tbody>\n",
       "</table>\n",
       "</div>"
      ],
      "text/plain": [
       "   carat      cut color clarity  depth  table  price     x     y     z\n",
       "1   0.23    Ideal     E     SI2   61.5   55.0    326  3.95  3.98  2.43\n",
       "2   0.21  Premium     E     SI1   59.8   61.0    326  3.89  3.84  2.31\n",
       "3   0.23     Good     E     VS1   56.9   65.0    327  4.05  4.07  2.31\n",
       "4   0.29  Premium     I     VS2   62.4   58.0    334  4.20  4.23  2.63\n",
       "5   0.31     Good     J     SI2   63.3   58.0    335  4.34  4.35  2.75"
      ]
     },
     "execution_count": 2,
     "metadata": {},
     "output_type": "execute_result"
    }
   ],
   "source": [
    "# Cargamos los datos y visualizamos como es el dataset\n",
    "\n",
    "df = pd.read_csv('diamonds.csv', index_col=0) \n",
    "df.head()"
   ]
  },
  {
   "cell_type": "markdown",
   "id": "1b5d4727",
   "metadata": {},
   "source": [
    "Veamos la dimensionalidad de este conjunto de datos:"
   ]
  },
  {
   "cell_type": "code",
   "execution_count": 52,
   "id": "54361894",
   "metadata": {},
   "outputs": [
    {
     "name": "stdout",
     "output_type": "stream",
     "text": [
      "Observaciones:  53940\n",
      "Características:  10\n"
     ]
    }
   ],
   "source": [
    "print(\"Observaciones: \", df.shape[0])\n",
    "print(\"Características: \", df.shape[1])"
   ]
  },
  {
   "cell_type": "code",
   "execution_count": 47,
   "id": "9a42da9d",
   "metadata": {},
   "outputs": [
    {
     "data": {
      "text/plain": [
       "carat      float64\n",
       "cut         object\n",
       "color       object\n",
       "clarity     object\n",
       "depth      float64\n",
       "table      float64\n",
       "price        int64\n",
       "x          float64\n",
       "y          float64\n",
       "z          float64\n",
       "dtype: object"
      ]
     },
     "execution_count": 47,
     "metadata": {},
     "output_type": "execute_result"
    }
   ],
   "source": [
    "# En primer lugar observemos los tipos de datos que contiene el dataset\n",
    "df.dtypes"
   ]
  },
  {
   "cell_type": "markdown",
   "id": "315cb8ee",
   "metadata": {},
   "source": [
    "Vemos que hay algunas columnas categóricas, para transformarlas a enteros podemos usar el siguiente código."
   ]
  },
  {
   "cell_type": "code",
   "execution_count": 5,
   "id": "d429b2ed",
   "metadata": {},
   "outputs": [],
   "source": [
    "categorias = df[\"cut\"].astype('category')\n",
    "color = df[\"color\"].astype('category')\n",
    "claridad  = df[\"clarity\"].astype('category')"
   ]
  },
  {
   "cell_type": "code",
   "execution_count": 4,
   "id": "cdc74d61",
   "metadata": {},
   "outputs": [
    {
     "data": {
      "text/plain": [
       "1        2\n",
       "2        3\n",
       "3        1\n",
       "4        3\n",
       "5        1\n",
       "        ..\n",
       "53936    2\n",
       "53937    1\n",
       "53938    4\n",
       "53939    3\n",
       "53940    2\n",
       "Length: 53940, dtype: int8"
      ]
     },
     "execution_count": 4,
     "metadata": {},
     "output_type": "execute_result"
    }
   ],
   "source": [
    "categorias.cat.codes"
   ]
  },
  {
   "cell_type": "markdown",
   "id": "24e2897b",
   "metadata": {},
   "source": [
    "En el siguiente [enlace](https://www.stackvidhya.com/add-column-to-dataframe/) podéis encontrar como añadir una columna "
   ]
  },
  {
   "cell_type": "markdown",
   "id": "df046300",
   "metadata": {},
   "source": [
    "## Tarea\n",
    "\n",
    "_Put your code here_"
   ]
  }
 ],
 "metadata": {
  "celltoolbar": "Hide code",
  "kernelspec": {
   "display_name": "Python 3 (ipykernel)",
   "language": "python",
   "name": "python3"
  },
  "language_info": {
   "codemirror_mode": {
    "name": "ipython",
    "version": 3
   },
   "file_extension": ".py",
   "mimetype": "text/x-python",
   "name": "python",
   "nbconvert_exporter": "python",
   "pygments_lexer": "ipython3",
   "version": "3.7.4"
  }
 },
 "nbformat": 4,
 "nbformat_minor": 5
}