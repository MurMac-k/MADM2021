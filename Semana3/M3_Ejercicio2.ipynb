{
 "cells": [
  {
   "cell_type": "markdown",
   "metadata": {
    "collapsed": true,
    "pycharm": {
     "name": "#%% md\n"
    }
   },
   "source": [
    "# Ejercicio SVM\n",
    "\n",
    "Empezamos cargando las librerías necesarias:"
   ]
  },
  {
   "cell_type": "code",
   "execution_count": null,
   "metadata": {
    "pycharm": {
     "name": "#%%\n"
    }
   },
   "outputs": [],
   "source": [
    "import numpy as np\n",
    "import matplotlib.pyplot as plt\n",
    "from sklearn.datasets import make_classification\n",
    "\n",
    "from sklearn.model_selection import train_test_split\n",
    "\n",
    "from sklearn.svm import LinearSVC\n",
    "\n",
    "from sklearn.preprocessing import StandardScaler\n",
    "from sklearn.metrics import confusion_matrix\n",
    "from sklearn.metrics import precision_score"
   ]
  },
  {
   "cell_type": "markdown",
   "metadata": {
    "pycharm": {
     "name": "#%% md\n"
    }
   },
   "source": [
    "Para trabajar necesitamos un dataset, crearemos uno artificial que sea conveniente a nuestro ejercicio:"
   ]
  },
  {
   "cell_type": "code",
   "execution_count": null,
   "metadata": {
    "pycharm": {
     "name": "#%%\n"
    }
   },
   "outputs": [],
   "source": [
    "X, y = make_classification(n_samples=200, n_features=2, n_redundant=0, n_informative=2, \n",
    "                           random_state=2, n_clusters_per_class=1)\n",
    "rng = np.random.RandomState(2)\n",
    "X += 3 * rng.uniform(size=X.shape)\n",
    "linearly_separable = (X, y)"
   ]
  },
  {
   "cell_type": "markdown",
   "metadata": {},
   "source": [
    "Vamos a visualizar como son estos datos:"
   ]
  },
  {
   "cell_type": "code",
   "execution_count": null,
   "metadata": {},
   "outputs": [],
   "source": [
    "plt.scatter(X[:,0],X[:,1],c=y);"
   ]
  },
  {
   "cell_type": "markdown",
   "metadata": {},
   "source": [
    "\n",
    "**Pregunta 1**\n",
    "- Separa el conjunto de datos `X` e `y` en dos conjuntos: entrenamiento y test.\n",
    "- Entrena una SVM con el paràmetro `C=0.0001`.\n",
    "- Muestra la matriz de confusión y calcula la precision (tp / (tp + fp)) en la clasificación."
   ]
  },
  {
   "cell_type": "code",
   "execution_count": null,
   "metadata": {},
   "outputs": [],
   "source": [
    "# Preparación de los datos\n"
   ]
  },
  {
   "cell_type": "code",
   "execution_count": null,
   "metadata": {},
   "outputs": [],
   "source": [
    "# Clasificación \n"
   ]
  },
  {
   "cell_type": "code",
   "execution_count": null,
   "metadata": {},
   "outputs": [],
   "source": [
    "# Metricas\n"
   ]
  },
  {
   "cell_type": "markdown",
   "metadata": {},
   "source": [
    "Vamos a dibujar la recta de decisión sobre el conjunto de test aprovechando que estamos en un problema con 2 características."
   ]
  },
  {
   "cell_type": "code",
   "execution_count": null,
   "metadata": {},
   "outputs": [],
   "source": []
  },
  {
   "cell_type": "markdown",
   "metadata": {},
   "source": [
    "**Pregunta 2**\n",
    "\n",
    "Repite el mismo proceso pero escalando los valores del conjunto de datos, aprovecha los conjuntos que ya habías obtenido anteriormente:"
   ]
  },
  {
   "cell_type": "code",
   "execution_count": null,
   "metadata": {},
   "outputs": [],
   "source": [
    "scs = StandardScaler()\n"
   ]
  },
  {
   "cell_type": "code",
   "execution_count": null,
   "metadata": {},
   "outputs": [],
   "source": [
    "# Clasificación \n"
   ]
  },
  {
   "cell_type": "code",
   "execution_count": null,
   "metadata": {},
   "outputs": [],
   "source": [
    "# Metricas\n"
   ]
  },
  {
   "cell_type": "markdown",
   "metadata": {},
   "source": [
    "**Ejercicio 3**\n",
    "\n",
    "Ahora vamos a ver como afecta la modificación del valor del paràmetro C a la clasificación.\n"
   ]
  },
  {
   "cell_type": "code",
   "execution_count": null,
   "metadata": {},
   "outputs": [],
   "source": [
    "X, y = make_classification(n_samples=200, n_features=2, n_redundant=0, n_informative=2, \n",
    "                           random_state=2, n_clusters_per_class=1, class_sep=3,)\n",
    "rng = np.random.RandomState(2)\n",
    "X += 6 * rng.uniform(size=X.shape)\n"
   ]
  },
  {
   "cell_type": "markdown",
   "metadata": {},
   "source": [
    "Vuelve a preparar los datos para poder realizar una clasificación: separacion en conjuntos de entrenamiento y test y escalado de los datos:"
   ]
  },
  {
   "cell_type": "code",
   "execution_count": null,
   "metadata": {},
   "outputs": [],
   "source": [
    "# Preparación de los datos\n"
   ]
  },
  {
   "cell_type": "markdown",
   "metadata": {},
   "source": [
    "Ejecuta la siguiente celda y observa como cambia la recta de decisión:"
   ]
  },
  {
   "cell_type": "code",
   "execution_count": null,
   "metadata": {},
   "outputs": [],
   "source": [
    "Cs = [ 0.0001, 0.001,0.1, 1.0]\n",
    "\n",
    "plt.figure(figsize=(16,4))\n",
    "\n",
    "for idx, C in enumerate(Cs):\n",
    "    \n",
    "    clf = LinearSVC(C=C, random_state=0)\n",
    "    clf.fit(X_train_scaled, y_train)\n",
    "    y_predict = clf.predict(X_test_scaled)\n",
    "    \n",
    "    m = -clf.coef_[0][0] / clf.coef_[0][1]\n",
    "    x1 = (0, -clf.intercept_[0] / clf.coef_[0][1])\n",
    "    \n",
    "    ax = plt.subplot(1, 4, idx + 1)  # Añadimos  la subfigura a una figura mas grande con cuatro columnas\n",
    "    ax.set_title(\"C=\"+ str(C))\n",
    "    ax.axline(xy1=x1, slope=m,color=colors[idx])\n",
    "    ax.scatter(X_train_scaled[:, 0], X_train_scaled[:, 1], c=y_train, edgecolors=\"k\")"
   ]
  }
 ],
 "metadata": {
  "kernelspec": {
   "display_name": "Python 3 (ipykernel)",
   "language": "python",
   "name": "python3"
  },
  "language_info": {
   "codemirror_mode": {
    "name": "ipython",
    "version": 3
   },
   "file_extension": ".py",
   "mimetype": "text/x-python",
   "name": "python",
   "nbconvert_exporter": "python",
   "pygments_lexer": "ipython3",
   "version": "3.7.4"
  }
 },
 "nbformat": 4,
 "nbformat_minor": 1
}
