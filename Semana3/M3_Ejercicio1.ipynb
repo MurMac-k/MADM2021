{
 "cells": [
  {
   "cell_type": "markdown",
   "metadata": {
    "collapsed": true,
    "pycharm": {
     "name": "#%% md\n"
    }
   },
   "source": [
    "\n",
    "# Ejercicio 1\n",
    "\n",
    "**Clasificadores lineales**\n",
    "\n",
    "En este ejercicio practicaremos con clasificadores lineales simples: perceptrón y la regresión logística.\n",
    "\n",
    "\n",
    "Empezaremos importando las librerias necesarias para realizar el trabajo. "
   ]
  },
  {
   "cell_type": "code",
   "execution_count": 1,
   "metadata": {},
   "outputs": [],
   "source": [
    "import numpy as np\n",
    "import matplotlib.pyplot as plt\n",
    "from sklearn.datasets import make_blobs\n",
    "\n",
    "from sklearn.model_selection import train_test_split\n",
    "\n",
    "from sklearn.preprocessing import StandardScaler\n",
    "from sklearn.metrics import confusion_matrix\n",
    "\n",
    "from sklearn.linear_model import Perceptron \n",
    "from sklearn.linear_model import LogisticRegression"
   ]
  },
  {
   "cell_type": "markdown",
   "metadata": {},
   "source": [
    "Para nuestros problemas necesitamos tener datos, generaremos un problema que nos sirva para entender el funcionamiento de estos clasificadores"
   ]
  },
  {
   "cell_type": "code",
   "execution_count": 2,
   "metadata": {},
   "outputs": [
    {
     "data": {
      "image/png": "[encoded data removed]",
      "text/plain": [
       "<Figure size 432x288 with 1 Axes>"
      ]
     },
     "metadata": {
      "needs_background": "light"
     },
     "output_type": "display_data"
    }
   ],
   "source": [
    "X, y = make_blobs(n_samples=100, centers=2, n_features=2,random_state=6)\n",
    "\n",
    "# Vamos a visualizar estos datos\n",
    "plt.scatter(X[:,1], X[:,0], c=y);"
   ]
  },
  {
   "cell_type": "markdown",
   "metadata": {},
   "source": [
    "**Ejercicio 1**\n",
    "- Crea un perceptron [Perceptron](https://scikit-learn.org/stable/modules/generated/sklearn.linear_model.Perceptron.html?highlight=perceptron#sklearn.linear_model.Perceptron)\n",
    "- Entrenalo con los datos que hemos generado\n",
    "- Que medida nos proporciona la función _score_ de esta clase?"
   ]
  },
  {
   "cell_type": "code",
   "execution_count": null,
   "metadata": {},
   "outputs": [],
   "source": [
    "\n"
   ]
  },
  {
   "cell_type": "markdown",
   "metadata": {},
   "source": [
    "- Dibuja sobre el gráfico anterior las siguientes muestras.\n",
    "\n",
    "    _Pista_ : puedes usar la función _scatter_ múltiples veces consecutivas"
   ]
  },
  {
   "cell_type": "code",
   "execution_count": 19,
   "metadata": {},
   "outputs": [],
   "source": [
    "X_real = np.asarray([[6,-10],[6, -6],[8, -2],[10, -4]])\n",
    "\n"
   ]
  },
  {
   "cell_type": "markdown",
   "metadata": {},
   "source": [
    "- Serías capaz de predecir la clase de las muestras `X_real`? Muestralo por pantalla"
   ]
  },
  {
   "cell_type": "code",
   "execution_count": null,
   "metadata": {},
   "outputs": [],
   "source": []
  },
  {
   "cell_type": "markdown",
   "metadata": {},
   "source": [
    "**Ejercicio 2**\n",
    "\n",
    "- Crea una Regresión Logística ([enlace](https://scikit-learn.org/stable/modules/generated/sklearn.linear_model.LogisticRegression.html?highlight=logistic%20regression#sklearn.linear_model.LogisticRegression))\n",
    "- Entrenalo con los datos que hemos generado (_X_, _y_ )\n",
    "- Obtén la predicción de este modelo para los datos _X\\_real_. Usa el mètodo predict y el método _predict\\_proba_. Que diferencias observas?"
   ]
  },
  {
   "cell_type": "code",
   "execution_count": null,
   "metadata": {},
   "outputs": [],
   "source": []
  },
  {
   "cell_type": "markdown",
   "metadata": {},
   "source": [
    "**Extra**\n",
    "\n",
    "Aprenderemos como dibujar la recta que permite clasificar entre las dos clases de la regresión logística.\n",
    "\n",
    "- Ecuación recta: Ax+By+C=0\n",
    "- Pendiente: -A/B\n",
    "- Ordenada en el origen: -C/B"
   ]
  },
  {
   "cell_type": "code",
   "execution_count": null,
   "metadata": {
    "scrolled": true
   },
   "outputs": [],
   "source": []
  }
 ],
 "metadata": {
  "kernelspec": {
   "display_name": "Python 3 (ipykernel)",
   "language": "python",
   "name": "python3"
  },
  "language_info": {
   "codemirror_mode": {
    "name": "ipython",
    "version": 3
   },
   "file_extension": ".py",
   "mimetype": "text/x-python",
   "name": "python",
   "nbconvert_exporter": "python",
   "pygments_lexer": "ipython3",
   "version": "3.7.4"
  }
 },
 "nbformat": 4,
 "nbformat_minor": 1
}
