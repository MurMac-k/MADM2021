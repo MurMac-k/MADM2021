{
 "cells": [
  {
   "cell_type": "markdown",
   "metadata": {},
   "source": [
    "# Clustering\n",
    "El _clustering_ (o agrupamiento) es una técnica que nos permite encontrar grupos de similares objetos que están más\n",
    "relacionados entre\n",
    "sí que con objetos de otros grupos. Entre los ejemplos de aplicaciones de agrupación en clústeres orientadas a los\n",
    "negocios se incluyen la agrupación de documentos, música y películas por diferentes temas, o la búsqueda de clientes\n",
    "que compartan intereses similares en función de comportamientos de compra comunes como base para los motores de\n",
    "recomendación.\n",
    "\n",
    "1. K-means\n",
    "2. Spectral Clustering"
   ]
  },
  {
   "cell_type": "markdown",
   "metadata": {},
   "source": [
    "## K-means\n",
    "\n",
    "_K-means_ , es usado ampliamente en el mundo académico y en la industria. Este algoritmo es extremadamente fácil de\n",
    "implementar, pero también es muy eficiente computacionalmente en comparación con otros algoritmos de agrupamiento.\n",
    "El algoritmo _k-means_ pertenece a la categoría de agrupamiento basado en prototipos, esto significa que cada grupo\n",
    "está representado por un prototipo, que puede ser el centroide (promedio) de puntos similares con características\n",
    "continuas, o el punto más representativo o que ocurre con mayor frecuencia en el caso de características categóricas.\n",
    "Si bien _k-means_ es muy bueno para identificar grupos de forma esférica, uno de los inconvenientes de este algoritmo\n",
    "de agrupamiento es que tenemos que especificar el número de grupos $k$ a priori. Una elección inapropiada para $k$ puede\n",
    "resultar en un rendimiento deficiente del algoritmo.\n",
    "\n",
    "El algoritmo es muy sencillo:\n",
    "\n",
    "1. Elegir $k$ centroides de forma aleatoria como centros de _clustering_ iniciales.\n",
    "2. Asignar cada muestra al centroide más cercano.\n",
    "3. Mover los centroides al centro de las muestras que le han sido asignadas en el paso anterior.\n",
    "4. Repetir los pasos 2 y 3 hasta que la asignación del clúster no cambie, se alcance la tolerancia definida por el\n",
    "usuario o un número máximo de iteraciones.\n",
    "\n",
    "Uso de k-means en scikit:"
   ]
  },
  {
   "cell_type": "code",
   "execution_count": null,
   "metadata": {
    "pycharm": {
     "name": "#%%\n"
    }
   },
   "outputs": [],
   "source": [
    "from sklearn.cluster import KMeans\n",
    "km = KMeans(n_clusters=3,init='random', n_init=10,  max_iter=300, tol=1e-04, random_state=33)\n",
    "y_km = km.fit_predict(X)"
   ]
  },
  {
   "cell_type": "markdown",
   "metadata": {},
   "source": [
    "### Cómo determinamos el número K?\n",
    "\n",
    "Uno de los principales desafíos del aprendizaje no supervisado es que no conocemos la respuesta definitiva. No\n",
    "tenemos las etiquetas de clase en nuestro conjunto de datos. Por lo tanto, para cuantificar la calidad del\n",
    "_clustering_, necesitamos utilizar métricas intrínsecas, como la SSE dentro de la agrupación para\n",
    "comparar el rendimiento de diferentes agrupaciones.\n",
    "\n",
    "$ SSE = \\sum_{i=1}^{n} \\sum_{j=1}^{k} w^{(i,j)} ||x^{(i)} - \\mu^{(j)} ||^2 $,\n",
    "\n",
    "donde $ \\mu^{(j)}$ es el centroide del _cluster_ $j$,  y $w^{(i,j)} = 1$ si la muestra $x^{(i)}$ pertenece al\n",
    "clúster $j$ y $w^{(i,j)} = 0$ en caso contrario.\n",
    "\n",
    "Convenientemente, no necesitamos calcular el SSE dentro del clúster de manera explícita, ya que ya es accesible a\n",
    "través del atributo _inertia\\__ después de ajustar una instancia del modelo KMeans.\n",
    "\n",
    "Veamos como podemos usar este atributo para seleccionar el valor adecuado de $k$:"
   ]
  },
  {
   "cell_type": "code",
   "execution_count": 2,
   "metadata": {
    "pycharm": {
     "name": "#%%\n"
    },
    "scrolled": false
   },
   "outputs": [
    {
     "name": "stderr",
     "output_type": "stream",
     "text": [
      "C:\\Users\\gabri\\Anaconda3\\envs\\MADM2019\\lib\\site-packages\\sklearn\\cluster\\_kmeans.py:1040: UserWarning: KMeans is known to have a memory leak on Windows with MKL, when there are less chunks than available threads. You can avoid it by setting the environment variable OMP_NUM_THREADS=6.\n",
      "  \"KMeans is known to have a memory leak on Windows \"\n"
     ]
    },
    {
     "data": {
      "image/png": "[encoded data removed]",
      "text/plain": [
       "<Figure size 432x288 with 1 Axes>"
      ]
     },
     "metadata": {
      "needs_background": "light"
     },
     "output_type": "display_data"
    }
   ],
   "source": [
    "from sklearn.cluster import KMeans\n",
    "import matplotlib.pyplot as plt\n",
    "from sklearn.datasets import make_blobs\n",
    "\n",
    "n_samples = 1500\n",
    "random_state = 170\n",
    "X, y = make_blobs(n_samples=n_samples, random_state=random_state)\n",
    "\n",
    "distortions = []\n",
    "for i in range(1, 11):\n",
    "    km = KMeans(n_clusters=i,init='random', max_iter=300, random_state=0)\n",
    "    km.fit(X)\n",
    "    distortions.append(km.inertia_)\n",
    "\n",
    "plt.plot(range(1,11), distortions, marker='o')\n",
    "plt.xlabel('Número de clusters')\n",
    "plt.ylabel('Distortion')\n",
    "plt.xticks(range(1,11))\n",
    "plt.show();"
   ]
  },
  {
   "cell_type": "markdown",
   "metadata": {},
   "source": [
    "## Spectral Clustering\n",
    "\n",
    "La técnica _spectral clustering_ es muy útil cuando la estructura de los agrupamientos individuales no es muy convexa o, de manera más general, cuando una medida del centro y la dispersión del agrupamiento no es una descripción adecuada del agrupamiento completo. Por ejemplo, cuando los grupos son círculos anidados en el plano 2D. \n",
    "\n",
    "Como parámetros más importantes tiene:\n",
    "\n",
    "   - El número de clusters.\n",
    "   - `assign_labels`: La tècnica que se usa para asignar las etiquetas. Se puede usar k-means o `discreti`\n",
    "\n",
    "Uso en Sci-kit:\n"
   ]
  },
  {
   "cell_type": "code",
   "execution_count": null,
   "metadata": {},
   "outputs": [],
   "source": [
    "from sklearn.cluster import SpectralClustering\n",
    "\n",
    "sc = SpectralClustering(n_clusters=2, assign_labels='discretize', random_state=0)\n",
    "sc.fit(X)"
   ]
  }
 ],
 "metadata": {
  "kernelspec": {
   "display_name": "Python 3 (ipykernel)",
   "language": "python",
   "name": "python3"
  },
  "language_info": {
   "codemirror_mode": {
    "name": "ipython",
    "version": 3
   },
   "file_extension": ".py",
   "mimetype": "text/x-python",
   "name": "python",
   "nbconvert_exporter": "python",
   "pygments_lexer": "ipython3",
   "version": "3.7.4"
  }
 },
 "nbformat": 4,
 "nbformat_minor": 1
}
