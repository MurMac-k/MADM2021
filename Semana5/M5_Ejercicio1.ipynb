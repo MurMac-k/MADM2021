{
 "cells": [
  {
   "cell_type": "markdown",
   "metadata": {
    "collapsed": true
   },
   "source": [
    "# Ejercicio 1\n",
    "\n",
    "Clustering - Kmeans"
   ]
  },
  {
   "cell_type": "code",
   "execution_count": 2,
   "metadata": {},
   "outputs": [],
   "source": [
    "import numpy as np\n",
    "from sklearn.datasets import load_digits\n",
    "\n",
    "import matplotlib.pyplot as plt\n",
    "from sklearn.cluster import KMeans\n"
   ]
  },
  {
   "cell_type": "markdown",
   "metadata": {},
   "source": [
    "## Carga de datos\n",
    "\n",
    "Vamos a descargar un conjunto de datos que consiste en 1797 imágenes de los dígitos de \n",
    "0 a 9 escritos a mano"
   ]
  },
  {
   "cell_type": "code",
   "execution_count": 3,
   "metadata": {},
   "outputs": [
    {
     "name": "stdout",
     "output_type": "stream",
     "text": [
      "El conjunto de datos, tiene la siguiente forma:  (1797, 64)\n"
     ]
    }
   ],
   "source": [
    "data, labels = load_digits(return_X_y=True)\n",
    "\n",
    "print(\"El conjunto de datos, tiene la siguiente forma: \", data.shape)"
   ]
  },
  {
   "cell_type": "code",
   "execution_count": 4,
   "metadata": {},
   "outputs": [
    {
     "data": {
      "image/png": "[encoded data removed]",
      "text/plain": [
       "<Figure size 864x288 with 10 Axes>"
      ]
     },
     "metadata": {},
     "output_type": "display_data"
    }
   ],
   "source": [
    "# Visualizaremos los primeros 10 datos para conocer el dataset\n",
    "\n",
    "figure = plt.figure(figsize=(12, 4))\n",
    "\n",
    "for i in range(10):\n",
    "    ax = plt.subplot(2, 5, i + 1)\n",
    "    ax.imshow(data[i,:].reshape((8,8)), cmap='gray') # La función reshape cambia la forma de cada fila\n",
    "    ax.set_title(labels[i])\n",
    "    ax.set_xticks(())\n",
    "    ax.set_yticks(())    "
   ]
  },
  {
   "cell_type": "markdown",
   "metadata": {},
   "source": [
    "**Ejercicio 1**\n",
    "\n",
    "Como siempre empezaremos separando el conjunto de entrenamiento y el de test"
   ]
  },
  {
   "cell_type": "code",
   "execution_count": 5,
   "metadata": {},
   "outputs": [],
   "source": [
    "from sklearn.model_selection import train_test_split\n",
    "\n"
   ]
  },
  {
   "cell_type": "markdown",
   "metadata": {},
   "source": [
    "## Reducción de la dimensionalidad\n",
    "\n",
    "Para poder observar los datos vamos a proceder a reducir la dimensionalidad de nuestro conjunto. Para ello usaremos la técnica de PCA [enlace](https://scikit-learn.org/stable/modules/generated/sklearn.decomposition.PCA.html?highlight=pca#sklearn.decomposition.PCA) que funciona de manera muy similar a las clases con las que hemos trabajado hasta ahora.\n",
    "\n",
    "El mètodo constructor `PCA` recibe por paràmetro el número de componentes que queremos conservar, en este caso 2. También podemos llamar al mètodo `fit` y a la función `transform` que es la que se encarga de realizar la transformación propiamente dicha.\n",
    "\n",
    "**Ejercicio 2**\n",
    "\n",
    "Transforma la matriz de datos `data` usando PCA para que su dimensionalidad sea de 2. Antes debes escalar los datos"
   ]
  },
  {
   "cell_type": "code",
   "execution_count": 12,
   "metadata": {},
   "outputs": [],
   "source": [
    "from sklearn.decomposition import PCA\n",
    "from sklearn.preprocessing import StandardScaler\n"
   ]
  },
  {
   "cell_type": "markdown",
   "metadata": {},
   "source": [
    "**Ejercicio 2**\n",
    "\n",
    "Dibuja los puntos usando un color diferente según su clase. Aunque estamos simulando un problema de clasificación no supervisada usaremos esta \"trampa\" para poder evaluar como de bien funciona _K-means_ en un problema más complicado de lo normal.\n",
    "\n",
    "Usa la función `scatter` y como paràmetro `c=labels`"
   ]
  },
  {
   "cell_type": "code",
   "execution_count": null,
   "metadata": {},
   "outputs": [],
   "source": []
  },
  {
   "cell_type": "markdown",
   "metadata": {},
   "source": [
    "**Ejercicio 3**\n",
    "\n",
    "Busca el mejor número de _clusters_ usando la regla del codo."
   ]
  },
  {
   "cell_type": "code",
   "execution_count": null,
   "metadata": {},
   "outputs": [],
   "source": []
  },
  {
   "cell_type": "markdown",
   "metadata": {},
   "source": [
    "**Ejercicio 4**\n",
    "\n",
    "Vamos a visualizar los 10 centroides:"
   ]
  },
  {
   "cell_type": "code",
   "execution_count": null,
   "metadata": {},
   "outputs": [],
   "source": []
  },
  {
   "cell_type": "markdown",
   "metadata": {},
   "source": [
    "**Ejercicio 5**\n",
    "\n",
    "Usa una SVM con kernel `RBF` para solventar este problema de clasificación de forma supervisada. \n",
    "\n",
    "Realiza esta clasificación con la información una vez has aplicado PCA con 2 dimensiones y otra usando las 64 dimensiones originales."
   ]
  }
 ],
 "metadata": {
  "kernelspec": {
   "display_name": "Python 3 (ipykernel)",
   "language": "python",
   "name": "python3"
  },
  "language_info": {
   "codemirror_mode": {
    "name": "ipython",
    "version": 3
   },
   "file_extension": ".py",
   "mimetype": "text/x-python",
   "name": "python",
   "nbconvert_exporter": "python",
   "pygments_lexer": "ipython3",
   "version": "3.7.4"
  }
 },
 "nbformat": 4,
 "nbformat_minor": 1
}
