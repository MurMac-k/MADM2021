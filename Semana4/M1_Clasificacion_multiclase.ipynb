{
 "cells": [
  {
   "cell_type": "markdown",
   "metadata": {
    "collapsed": true,
    "pycharm": {
     "name": "#%% md\n"
    }
   },
   "source": [
    "# Pràctica 4 - Que passa si tenim més de 2 classes?\n",
    "\n",
    "Fins ara hem treballat amb problemes de classificació de conjunts que tenien 2 classes i que\n",
    "estaven generats de manera artificial. En aquesta pràctica començarem a treballar amb conjunts de\n",
    "dades reals que a més tenen més d'una classe\n",
    "\n",
    "## Les dades\n",
    "\n",
    "El conjunt de dades amb el que treballarem consta d’imatges de dígits (del 0 al 9) amb una resolució de 8x8 píxels en\n",
    "escala de grisos. Tenim el conjunt de dades etiquetat, per cada una de les imatges tenim la seva classe."
   ]
  },
  {
   "cell_type": "code",
   "execution_count": null,
   "outputs": [],
   "source": [
    "import matplotlib.pyplot as plt\n",
    "from sklearn import datasets\n",
    "\n",
    "digits = datasets.load_digits()\n",
    "\n",
    "_, axes = plt.subplots(nrows=1, ncols=4, figsize=(10, 3))\n",
    "for ax, image, label in zip(axes, digits.images, digits.target):\n",
    "    ax.set_axis_off()\n",
    "    ax.imshow(image, cmap=plt.cm.gray_r, interpolation='nearest')\n",
    "    ax.set_title('Mostra del valor: %i' % label)\n",
    "\n",
    "plt.show()"
   ],
   "metadata": {
    "collapsed": false,
    "pycharm": {
     "name": "#%%\n"
    }
   }
  },
  {
   "cell_type": "markdown",
   "source": [
    "**Acceso a los datos**\n",
    "\n",
    "En la variable `digits` tenemos dos atributos: uno llamado `images` donde se guardan los datos del conjunto de datos y uno\n",
    "otro llamado `target` donde tenemos sus clases.\n",
    "\n",
    "Podemos acceder a la información de la siguiente manera:\n"
   ],
   "metadata": {
    "collapsed": false
   }
  },
  {
   "cell_type": "code",
   "execution_count": null,
   "outputs": [],
   "source": [
    "\n",
    "mostra = digits.images[0] # accedemos a la primera muestra del conjunto de datos.\n",
    "classe = digits.target[0]\n",
    "\n",
    "print(mostra, classe)"
   ],
   "metadata": {
    "collapsed": false,
    "pycharm": {
     "name": "#%%\n"
    }
   }
  },
  {
   "cell_type": "markdown",
   "source": [
    "**Preprocesamiento**\n",
    "\n",
    "Los clasificadores que empleamos esperan que cada muestra del conjunto de datos esté en forma de fila y en este\n",
    "_dataset_ los tenemos en forma de matriz. Podemos usar la función `reshape` de la librería numpy nos ayudará a solucionar\n",
    "este problema.\n"
   ],
   "metadata": {
    "collapsed": false
   }
  },
  {
   "cell_type": "markdown",
   "source": [
    "## Trabajo a realizar\n",
    "\n",
    "1. Cambia la estructura del conjunto de datos para obtener una matriz con la siguiente estructura: (n_muestras, 64).\n",
    "2. Divide el conjunto de datos: un 70% para entrenar y un 30% para realizar test.\n",
    "3. Entrena un regresor logístico.\n",
    "4. Muestra la matriz de confusión por el conjunto de test. ¿Qué clases se confunden más?\n",
    "5. ¿Qué porcentaje de muestras están bien clasificadas?\n",
    "6. Si cambias el conjunto de entrenamiento. ¿Obtenemos resultados similares?\n",
    "\n",
    "\n",
    "## Métricas\n",
    "\n",
    "Tanto la matriz de confusión como las métricas que usamos en los problemas con dos clases se pueden usar para evaluar el\n",
    "rendimiento de nuestros algoritmos en caso de problemas como el que estamos tratando en esta práctica.\n",
    "\n",
    "El método [classification_report](https://scikit-learn.org/stable/modules/generated/sklearn.metrics.classification_report.html#sklearn.metrics.classification_report) ` del módulo `metrics` crea un informe de texto que muestra las métricas de\n",
    "clasificación principales por cada una de las clases, y las agrupa calculando su promedio."
   ],
   "metadata": {
    "collapsed": false
   }
  }
 ],
 "metadata": {
  "kernelspec": {
   "display_name": "Python 3",
   "language": "python",
   "name": "python3"
  },
  "language_info": {
   "codemirror_mode": {
    "name": "ipython",
    "version": 2
   },
   "file_extension": ".py",
   "mimetype": "text/x-python",
   "name": "python",
   "nbconvert_exporter": "python",
   "pygments_lexer": "ipython2",
   "version": "2.7.6"
  }
 },
 "nbformat": 4,
 "nbformat_minor": 0
}