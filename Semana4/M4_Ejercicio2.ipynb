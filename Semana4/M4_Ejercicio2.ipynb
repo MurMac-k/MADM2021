{
 "cells": [
  {
   "cell_type": "markdown",
   "metadata": {
    "collapsed": true
   },
   "source": [
    "# Random Forest\n",
    "\n",
    "Vamos a intentar repetir el proceso del ejercicio anterior pero usando Random Forests. \n",
    "\n",
    "\n",
    "**Ejercicio1**\n",
    "\n",
    "Los paràmetros a optimizar seran el número de àrboles y la profundiad de los árboles."
   ]
  },
  {
   "cell_type": "code",
   "execution_count": 2,
   "metadata": {},
   "outputs": [],
   "source": [
    "#Importar librerias\n",
    "\n",
    "import pandas as pd\n",
    "import numpy as np\n",
    "\n",
    "import matplotlib.pyplot as plt\n",
    "\n",
    "from sklearn.ensemble import RandomForestClassifier\n",
    "from sklearn.model_selection import train_test_split"
   ]
  },
  {
   "cell_type": "markdown",
   "metadata": {},
   "source": [
    "Vamos a usar el dataset: _seeds Data Set_ en el siguiente [enlace](https://archive.ics.uci.edu/ml/datasets/seeds) teneís toda la información del conjunto de datos.\n"
   ]
  },
  {
   "cell_type": "code",
   "execution_count": 3,
   "metadata": {},
   "outputs": [],
   "source": [
    "# Datos\n",
    "df = pd.read_csv(\"data/seeds_dataset.txt\", header=None, sep='\\t')\n",
    "df.head()\n",
    "\n",
    "X = np.asarray(df.drop([7], axis=1))\n",
    "y = np.asarray(df[7])\n",
    "\n"
   ]
  },
  {
   "cell_type": "code",
   "execution_count": null,
   "metadata": {},
   "outputs": [],
   "source": [
    "# Proceso"
   ]
  },
  {
   "cell_type": "markdown",
   "metadata": {},
   "source": [
    "**Ejercicio2**\n",
    "\n",
    "Este segundo ejercicio está diseñado para que podemas observar como el incremento del número de árboles del bosque no implica generar sobreajuste sobre el conjunto de datos.\n",
    "\n",
    "\n",
    "Debeís entrenar 100 random forests diferentes con el conjunto de entrenamiento, cada uno con un árbol más que el anterior. Empezaremos con un random forest de 1 árbol y guardaremos el _score_ también con el conjunto de entrenamiento de cada uno de ellos en una lista. Finalmente visualizaremos el resultado en un _plot_ con el número de árboles y el _score_ de cada uno de ellos"
   ]
  },
  {
   "cell_type": "code",
   "execution_count": null,
   "metadata": {},
   "outputs": [],
   "source": []
  }
 ],
 "metadata": {
  "kernelspec": {
   "display_name": "Python 3 (ipykernel)",
   "language": "python",
   "name": "python3"
  },
  "language_info": {
   "codemirror_mode": {
    "name": "ipython",
    "version": 3
   },
   "file_extension": ".py",
   "mimetype": "text/x-python",
   "name": "python",
   "nbconvert_exporter": "python",
   "pygments_lexer": "ipython3",
   "version": "3.7.4"
  }
 },
 "nbformat": 4,
 "nbformat_minor": 1
}
