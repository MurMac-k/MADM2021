{
 "cells": [
  {
   "cell_type": "markdown",
   "metadata": {
    "collapsed": true,
    "pycharm": {
     "name": "#%% md\n"
    }
   },
   "source": [
    "\n",
    "# El proceso de aprendizaje automático\n",
    "\n",
    "El proceso de aplicar técnicas de aprendizaje automático consta de más pasos que  elegir y aplicar el clasificador o regresor.\n",
    "Es un proceso que consta de cinco partes:\n",
    "\n",
    "1. Tratamiento de los datos\n",
    "\n",
    "2. Selección de la / las métricas adecuadas.\n",
    "\n",
    "3. Selección de la técnica a aplicar.\n",
    "\n",
    "4. Ajuste de los hiperparámetros.\n",
    "\n",
    "5. Evaluación del modelo.\n",
    "\n",
    "## El proceso de regresión\n",
    "\n",
    "En primer lugar importamos las librerías necesarias para llevar a cabo el proceso."
   ]
  },
  {
   "cell_type": "code",
   "execution_count": 1,
   "metadata": {
    "pycharm": {
     "name": "#%%\n"
    }
   },
   "outputs": [],
   "source": [
    "import matplotlib.pyplot as plt\n",
    "from sklearn.linear_model import LinearRegression\n",
    "from sklearn.datasets import make_regression"
   ]
  },
  {
   "cell_type": "markdown",
   "metadata": {
    "pycharm": {
     "name": "#%% md\n"
    }
   },
   "source": [
    "Generamos un conjunto de datos sobre el cual trabajaremos. Este conjunt es artificial y solamente\n",
    "sirve para realizar ejemplos:"
   ]
  },
  {
   "cell_type": "code",
   "execution_count": 6,
   "metadata": {
    "pycharm": {
     "name": "#%%\n"
    }
   },
   "outputs": [],
   "source": [
    "X, y = make_regression(n_samples=200, n_features=1, n_informative=1, noise=50, random_state=33)"
   ]
  },
  {
   "cell_type": "markdown",
   "metadata": {
    "pycharm": {
     "name": "#%% md\n"
    }
   },
   "source": [
    "Una vez que tenemos los datos y antes de crear el modelo visualizaremos como son:"
   ]
  },
  {
   "cell_type": "code",
   "execution_count": 5,
   "metadata": {
    "pycharm": {
     "name": "#%%\n"
    }
   },
   "outputs": [
    {
     "data": {
      "image/png": "[encoded data removed]",
      "text/plain": [
       "<Figure size 432x288 with 1 Axes>"
      ]
     },
     "metadata": {
      "needs_background": "light"
     },
     "output_type": "display_data"
    }
   ],
   "source": [
    "plt.scatter(X, y, color=\"blue\") # dibujamos la nube de puntos\n",
    "plt.show()"
   ]
  },
  {
   "cell_type": "markdown",
   "metadata": {},
   "source": [
    "Procedemos a crear un modelo. En este caso una regresión lineal, que no necesita\n",
    "ningún parámetro."
   ]
  },
  {
   "cell_type": "code",
   "execution_count": 16,
   "metadata": {
    "pycharm": {
     "name": "#%%\n"
    }
   },
   "outputs": [],
   "source": [
    "regr = LinearRegression(fit_intercept=False)"
   ]
  },
  {
   "cell_type": "markdown",
   "metadata": {
    "pycharm": {
     "name": "#%% md\n"
    }
   },
   "source": [
    "Entrenamos el modelo. El método `fit` necesita el conjunto de entrenamiento y las etiquetas o valores de regresión.\n",
    "Todos los modelos de `sci-kit` se entrenan llamando a esta función."
   ]
  },
  {
   "cell_type": "code",
   "execution_count": 17,
   "metadata": {
    "pycharm": {
     "name": "#%%\n"
    }
   },
   "outputs": [
    {
     "data": {
      "text/plain": [
       "LinearRegression(copy_X=True, fit_intercept=False, n_jobs=None, normalize=False)"
      ]
     },
     "execution_count": 17,
     "metadata": {},
     "output_type": "execute_result"
    }
   ],
   "source": [
    "regr.fit(X, y)"
   ]
  },
  {
   "cell_type": "markdown",
   "metadata": {
    "pycharm": {
     "name": "#%% md\n"
    }
   },
   "source": [
    "Ahora nos queda realizar las predicciones. Usaremos la función `predict` que necesita los valores a predecir y\n",
    "nos devolverá los valores de predicción:"
   ]
  },
  {
   "cell_type": "code",
   "execution_count": 18,
   "metadata": {
    "pycharm": {
     "name": "#%%\n"
    }
   },
   "outputs": [],
   "source": [
    "y_pred = regr.predict(X)"
   ]
  },
  {
   "cell_type": "markdown",
   "metadata": {
    "pycharm": {
     "name": "#%% md\n"
    }
   },
   "source": [
    "Solamente nos queda mostrar los resultados del proceso de regresión."
   ]
  },
  {
   "cell_type": "code",
   "execution_count": 19,
   "metadata": {
    "pycharm": {
     "name": "#%%\n"
    }
   },
   "outputs": [
    {
     "data": {
      "image/png": "[encoded data removed]",
      "text/plain": [
       "<Figure size 432x288 with 1 Axes>"
      ]
     },
     "metadata": {
      "needs_background": "light"
     },
     "output_type": "display_data"
    }
   ],
   "source": [
    "plt.scatter(X, y, color=\"black\") # dibujamos la nube de puntos\n",
    "plt.axline(xy1=(X.min(), y_pred.min()), xy2=(X.max(), y_pred.max())) # dibujamos la recta de regresión\n",
    "plt.title(\"Resultado de la regresión\")\n",
    "plt.show() # Una vez que hemos dibujado el gráfico, lo mostramos por pantalla\n"
   ]
  },
  {
   "cell_type": "markdown",
   "metadata": {
    "pycharm": {
     "name": "#%% md\n"
    }
   },
   "source": [
    "## Recursos\n",
    "\n",
    "- Sci-kit [enlace](https://scikit-learn.org)\n",
    "- Regresión [enlace](https://scikit-learn.org/stable/modules/linear_model.html#ordinary-least-squares)"
   ]
  }
 ],
 "metadata": {
  "kernelspec": {
   "display_name": "Python 3",
   "language": "python",
   "name": "python3"
  },
  "language_info": {
   "codemirror_mode": {
    "name": "ipython",
    "version": 3
   },
   "file_extension": ".py",
   "mimetype": "text/x-python",
   "name": "python",
   "nbconvert_exporter": "python",
   "pygments_lexer": "ipython3",
   "version": "3.8.10"
  }
 },
 "nbformat": 4,
 "nbformat_minor": 1
}
